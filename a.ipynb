{
 "cells": [
  {
   "cell_type": "code",
   "execution_count": null,
   "metadata": {},
   "outputs": [],
   "source": [
    "from bs4 import BeautifulSoup\n",
    "import requests\n",
    "import time"
   ]
  },
  {
   "cell_type": "code",
   "execution_count": null,
   "metadata": {},
   "outputs": [],
   "source": [
    "url = \"https://service.twr.co.jp/rinkai/public/DC/delay-certificate/status-list\""
   ]
  },
  {
   "cell_type": "code",
   "execution_count": null,
   "metadata": {},
   "outputs": [],
   "source": [
    "response = requests.get(url)\n",
    "soup = BeautifulSoup(response.text, \"html.parser\")"
   ]
  },
  {
   "cell_type": "code",
   "execution_count": null,
   "metadata": {},
   "outputs": [],
   "source": [
    "import re\n",
    "\n",
    "text_list = []\n",
    "\n",
    "for tr in soup.find(\"tbody\").find_all(\"tr\"):\n",
    "    td = tr.find(\"td\")\n",
    "    if td:\n",
    "        text = td.text.strip() \n",
    "        if text == \"掲載はありません。\":\n",
    "            text = \"0\\n\" \n",
    "        elif re.search(r\"\\d+分\", text):\n",
    "            time = int(re.search(r\"\\d+\", text).group())\n",
    "            text = str(time) + \"\\n\"\n",
    "        else:\n",
    "            text += \"\\n\"\n",
    "        text_list.append(text)\n",
    "\n",
    "print(\"\".join(text_list))"
   ]
  }
 ],
 "metadata": {
  "language_info": {
   "name": "python"
  }
 },
 "nbformat": 4,
 "nbformat_minor": 2
}

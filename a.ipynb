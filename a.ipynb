{
 "cells": [
  {
   "cell_type": "code",
   "execution_count": null,
   "metadata": {},
   "outputs": [],
   "source": []
  },
  {
   "cell_type": "code",
   "execution_count": 1,
   "metadata": {},
   "outputs": [],
   "source": [
    "from bs4 import BeautifulSoup\n",
    "import requests\n",
    "import time"
   ]
  },
  {
   "cell_type": "code",
   "execution_count": 2,
   "metadata": {},
   "outputs": [],
   "source": [
    "url = \"https://service.twr.co.jp/rinkai/public/DC/delay-certificate/status-list\""
   ]
  },
  {
   "cell_type": "code",
   "execution_count": 3,
   "metadata": {},
   "outputs": [],
   "source": [
    "response = requests.get(url)\n",
    "soup = BeautifulSoup(response.text, \"html.parser\")"
   ]
  },
  {
   "cell_type": "code",
   "execution_count": 4,
   "metadata": {},
   "outputs": [
    {
     "name": "stdout",
     "output_type": "stream",
     "text": [
      "10\n",
      "0\n",
      "0\n",
      "0\n",
      "20\n",
      "0\n",
      "20\n",
      "0\n",
      "0\n",
      "0\n",
      "0\n",
      "10\n",
      "0\n",
      "20\n",
      "10\n",
      "0\n",
      "20\n",
      "10\n",
      "0\n",
      "20\n",
      "30\n",
      "0\n",
      "0\n",
      "10\n",
      "0\n",
      "20\n",
      "20\n",
      "20\n",
      "0\n",
      "10\n",
      "\n"
     ]
    }
   ],
   "source": [
    "import re\n",
    "\n",
    "text_list = []\n",
    "\n",
    "for tr in soup.find(\"tbody\").find_all(\"tr\"):\n",
    "    td = tr.find(\"td\")\n",
    "    if td:\n",
    "        text = td.text.strip() \n",
    "        if text == \"掲載はありません。\":\n",
    "            text = \"0\\n\" \n",
    "        elif re.search(r\"\\d+分\", text):\n",
    "            time = int(re.search(r\"\\d+\", text).group())\n",
    "            text = str(time) + \"\\n\"\n",
    "        else:\n",
    "            text += \"\\n\"\n",
    "        text_list.append(text)\n",
    "\n",
    "print(\"\".join(text_list))"
   ]
  }
 ],
 "metadata": {
  "kernelspec": {
   "display_name": "Python 3",
   "language": "python",
   "name": "python3"
  },
  "language_info": {
   "codemirror_mode": {
    "name": "ipython",
    "version": 3
   },
   "file_extension": ".py",
   "mimetype": "text/x-python",
   "name": "python",
   "nbconvert_exporter": "python",
   "pygments_lexer": "ipython3",
   "version": "3.9.10"
  }
 },
 "nbformat": 4,
 "nbformat_minor": 2
}
